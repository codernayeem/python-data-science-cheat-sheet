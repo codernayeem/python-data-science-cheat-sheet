{
 "cells": [
  {
   "cell_type": "markdown",
   "metadata": {},
   "source": [
    "## Pandas\n",
    "* Pandas is a Python library used for working with data sets\n",
    "* It has functions for analyzing, cleaning, exploring, and manipulating data\n",
    "* The name \"Pandas\" has a reference to both \"Panel Data\" and \"Python Data Analysis\""
   ]
  },
  {
   "cell_type": "code",
   "execution_count": 1,
   "metadata": {},
   "outputs": [],
   "source": [
    "# importing pandas\n",
    "import pandas as pd"
   ]
  },
  {
   "cell_type": "markdown",
   "metadata": {},
   "source": [
    "## Series\n",
    " One Dimentional array with axis labels (like a single column of a 2D-array / DataFrame)\n",
    "## Dataframe\n",
    " 2D array with axis labels (row and column) (containing multiple Series)\n"
   ]
  },
  {
   "cell_type": "code",
   "execution_count": 2,
   "metadata": {},
   "outputs": [],
   "source": [
    "# Creating Series\n",
    "sr = pd.Series([45, 656, 567, 5, 67, 6])\n",
    "sr = pd.Series({'first': 1, 'second': 2, 'third': 3})   # The keys of the dictionary become the labels of the rows\n",
    "sr = pd.Series([45, 656, 567, 5], index=['first', 'second', 3, 'forth'])"
   ]
  },
  {
   "cell_type": "markdown",
   "metadata": {},
   "source": [
    "## Index & Columns\n",
    "* **index**   : labels of rows    (default : 0, 1, 2, ...)\n",
    "* **columns** : labels of columns (default : 0, 1, 2, ...)"
   ]
  },
  {
   "cell_type": "code",
   "execution_count": 3,
   "metadata": {},
   "outputs": [
    {
     "output_type": "execute_result",
     "data": {
      "text/plain": "          Name  Marks\nfirst   Nayeem     86\nsecond    Sami     63\nthird     Alif     53",
      "text/html": "<div>\n<style scoped>\n    .dataframe tbody tr th:only-of-type {\n        vertical-align: middle;\n    }\n\n    .dataframe tbody tr th {\n        vertical-align: top;\n    }\n\n    .dataframe thead th {\n        text-align: right;\n    }\n</style>\n<table border=\"1\" class=\"dataframe\">\n  <thead>\n    <tr style=\"text-align: right;\">\n      <th></th>\n      <th>Name</th>\n      <th>Marks</th>\n    </tr>\n  </thead>\n  <tbody>\n    <tr>\n      <th>first</th>\n      <td>Nayeem</td>\n      <td>86</td>\n    </tr>\n    <tr>\n      <th>second</th>\n      <td>Sami</td>\n      <td>63</td>\n    </tr>\n    <tr>\n      <th>third</th>\n      <td>Alif</td>\n      <td>53</td>\n    </tr>\n  </tbody>\n</table>\n</div>"
     },
     "metadata": {},
     "execution_count": 3
    }
   ],
   "source": [
    "# Creating Dataframes\n",
    "data = {\"calories\": [420, 380, 390], \"duration\": [50, 40, 45]}\n",
    "marks = [\n",
    "    ['Nayeem', 86],\n",
    "    ['Sami', 63],\n",
    "    ['Alif', 53],\n",
    "]\n",
    "df = pd.DataFrame(data) # The keys of the dictionary become the label of the columns\n",
    "df = pd.DataFrame(data, index=['first', 'second', 'third'])\n",
    "df = pd.DataFrame(marks, columns=['Name', 'Marks'])\n",
    "df = pd.DataFrame(marks, index=['first', 'second', 'third'], columns=['Name', 'Marks'])\n",
    "\n",
    "df"
   ]
  },
  {
   "cell_type": "markdown",
   "metadata": {},
   "source": [
    "## Read & Write to a file"
   ]
  },
  {
   "cell_type": "code",
   "execution_count": 4,
   "metadata": {},
   "outputs": [
    {
     "output_type": "execute_result",
     "data": {
      "text/plain": "   #                   Name Type 1  Type 2  Total  HP  Attack  Defense  \\\n0  1              Bulbasaur  Grass  Poison    318  45      49       49   \n1  2                Ivysaur  Grass  Poison    405  60      62       63   \n2  3               Venusaur  Grass  Poison    525  80      82       83   \n3  3  VenusaurMega Venusaur  Grass  Poison    625  80     100      123   \n4  4             Charmander   Fire     NaN    309  39      52       43   \n\n   Sp. Atk  Sp. Def  Speed  Generation  Legendary  \n0       65       65     45           1      False  \n1       80       80     60           1      False  \n2      100      100     80           1      False  \n3      122      120     80           1      False  \n4       60       50     65           1      False  ",
      "text/html": "<div>\n<style scoped>\n    .dataframe tbody tr th:only-of-type {\n        vertical-align: middle;\n    }\n\n    .dataframe tbody tr th {\n        vertical-align: top;\n    }\n\n    .dataframe thead th {\n        text-align: right;\n    }\n</style>\n<table border=\"1\" class=\"dataframe\">\n  <thead>\n    <tr style=\"text-align: right;\">\n      <th></th>\n      <th>#</th>\n      <th>Name</th>\n      <th>Type 1</th>\n      <th>Type 2</th>\n      <th>Total</th>\n      <th>HP</th>\n      <th>Attack</th>\n      <th>Defense</th>\n      <th>Sp. Atk</th>\n      <th>Sp. Def</th>\n      <th>Speed</th>\n      <th>Generation</th>\n      <th>Legendary</th>\n    </tr>\n  </thead>\n  <tbody>\n    <tr>\n      <th>0</th>\n      <td>1</td>\n      <td>Bulbasaur</td>\n      <td>Grass</td>\n      <td>Poison</td>\n      <td>318</td>\n      <td>45</td>\n      <td>49</td>\n      <td>49</td>\n      <td>65</td>\n      <td>65</td>\n      <td>45</td>\n      <td>1</td>\n      <td>False</td>\n    </tr>\n    <tr>\n      <th>1</th>\n      <td>2</td>\n      <td>Ivysaur</td>\n      <td>Grass</td>\n      <td>Poison</td>\n      <td>405</td>\n      <td>60</td>\n      <td>62</td>\n      <td>63</td>\n      <td>80</td>\n      <td>80</td>\n      <td>60</td>\n      <td>1</td>\n      <td>False</td>\n    </tr>\n    <tr>\n      <th>2</th>\n      <td>3</td>\n      <td>Venusaur</td>\n      <td>Grass</td>\n      <td>Poison</td>\n      <td>525</td>\n      <td>80</td>\n      <td>82</td>\n      <td>83</td>\n      <td>100</td>\n      <td>100</td>\n      <td>80</td>\n      <td>1</td>\n      <td>False</td>\n    </tr>\n    <tr>\n      <th>3</th>\n      <td>3</td>\n      <td>VenusaurMega Venusaur</td>\n      <td>Grass</td>\n      <td>Poison</td>\n      <td>625</td>\n      <td>80</td>\n      <td>100</td>\n      <td>123</td>\n      <td>122</td>\n      <td>120</td>\n      <td>80</td>\n      <td>1</td>\n      <td>False</td>\n    </tr>\n    <tr>\n      <th>4</th>\n      <td>4</td>\n      <td>Charmander</td>\n      <td>Fire</td>\n      <td>NaN</td>\n      <td>309</td>\n      <td>39</td>\n      <td>52</td>\n      <td>43</td>\n      <td>60</td>\n      <td>50</td>\n      <td>65</td>\n      <td>1</td>\n      <td>False</td>\n    </tr>\n  </tbody>\n</table>\n</div>"
     },
     "metadata": {},
     "execution_count": 4
    }
   ],
   "source": [
    "# Write CSV\n",
    "\n",
    "df.to_csv('data\\\\marks_data1.csv')\n",
    "# changing csv separator, removing index/row labels, removing headers/column names:\n",
    "df.to_csv('data\\\\marks_data2.tsv', sep='\\t', index=False, header=None)\n",
    "# tsv -> tab separated values (\\t)\n",
    "\n",
    "# save only selected columns:\n",
    "df.to_csv('data\\\\marks_data3.csv', columns=['Marks']) \n",
    "\n",
    "\n",
    "# Read CSV\n",
    "pokemons = pd.read_csv('data\\\\Pokemon.csv')\n",
    "\n",
    "# if that has a different separator and don't have headers + (setting custom header):\n",
    "df2 = pd.read_csv('data\\\\marks_data2.tsv', sep='\\t', header=None, names=['name', 'mark'])\n",
    "\n",
    "df2 = pd.read_csv('data\\\\Pokemon.csv', skiprows=4) # skip first 4 rows\n",
    "df2 = pd.read_csv('data\\\\Pokemon.csv', nrows=5) # read only first 5 rows\n",
    "\n",
    "df2"
   ]
  },
  {
   "cell_type": "code",
   "execution_count": 5,
   "metadata": {},
   "outputs": [],
   "source": [
    "# Almost most of the things are same with CSV read write\n",
    "# Write Exel\n",
    "df.to_excel('data\\\\marks_data1.xlsx')\n",
    "\n",
    "# set sheet name and define offset\n",
    "df.to_excel('data\\\\marks_data2.xlsx', sheet_name='Sheet1', startcol=1, startrow=2)\n",
    "\n",
    "# Read Exel\n",
    "df = pd.read_excel('data\\\\marks_data1.xlsx', 'Sheet1')\n",
    "\n",
    "# save in multiple sheets\n",
    "# mode='a' : if writing in existing file\n",
    "with pd.ExcelWriter('data\\\\marks_data3.xlsx') as writer:\n",
    "     df.to_excel(writer, sheet_name='SheetA')\n",
    "     pokemons.to_excel(writer, sheet_name='SheetB')\n"
   ]
  },
  {
   "cell_type": "markdown",
   "metadata": {},
   "source": [
    "## Basics"
   ]
  },
  {
   "cell_type": "code",
   "execution_count": 6,
   "metadata": {},
   "outputs": [
    {
     "output_type": "execute_result",
     "data": {
      "text/plain": "    name  roll  mark  passed\n0   Alif   256    38   False\n1   Sami   249    69    True\n2   Asma   269    55    True\n3  Faruk   215    72    True",
      "text/html": "<div>\n<style scoped>\n    .dataframe tbody tr th:only-of-type {\n        vertical-align: middle;\n    }\n\n    .dataframe tbody tr th {\n        vertical-align: top;\n    }\n\n    .dataframe thead th {\n        text-align: right;\n    }\n</style>\n<table border=\"1\" class=\"dataframe\">\n  <thead>\n    <tr style=\"text-align: right;\">\n      <th></th>\n      <th>name</th>\n      <th>roll</th>\n      <th>mark</th>\n      <th>passed</th>\n    </tr>\n  </thead>\n  <tbody>\n    <tr>\n      <th>0</th>\n      <td>Alif</td>\n      <td>256</td>\n      <td>38</td>\n      <td>False</td>\n    </tr>\n    <tr>\n      <th>1</th>\n      <td>Sami</td>\n      <td>249</td>\n      <td>69</td>\n      <td>True</td>\n    </tr>\n    <tr>\n      <th>2</th>\n      <td>Asma</td>\n      <td>269</td>\n      <td>55</td>\n      <td>True</td>\n    </tr>\n    <tr>\n      <th>3</th>\n      <td>Faruk</td>\n      <td>215</td>\n      <td>72</td>\n      <td>True</td>\n    </tr>\n  </tbody>\n</table>\n</div>"
     },
     "metadata": {},
     "execution_count": 6
    }
   ],
   "source": [
    "data = {\n",
    "    'name': ['Alif', 'Sami', 'Asma', 'Faruk'],\n",
    "    'roll': [256, 249, 269, 215],\n",
    "    'mark': [38, 69, 55, 72],\n",
    "    'passed': [False, True, True, True],\n",
    "}\n",
    "df = pd.DataFrame(data)\n",
    "df"
   ]
  },
  {
   "cell_type": "code",
   "execution_count": 7,
   "metadata": {},
   "outputs": [
    {
     "output_type": "stream",
     "name": "stdout",
     "text": "name  roll  mark  passed\n0   Alif   256    38   False\n1   Sami   249    69    True\n2   Asma   269    55    True\n3  Faruk   215    72    True\n    name  roll  mark  passed\n0   Alif   256    38   False\n1   Sami   249    69    True\n2   Asma   269    55    True\n3  Faruk   215    72    True\n    name  roll  mark  passed\n0   Alif   256    38   False\n1   Sami   249    69    True\n2   Asma   269    55    True\n3  Faruk   215    72    True\n    name  roll  mark  passed\n0   Alif   256    38   False\n1   Sami   249    69    True\n2   Asma   269    55    True\n3  Faruk   215    72    True\n    name  roll  mark  passed\n0   Alif   256    38   False\n1   Sami   249    69    True\n2   Asma   269    55    True\n3  Faruk   215    72    True\n    name  roll  mark  passed\n0   Alif   256    38   False\n1   Sami   249    69    True\n2   Asma   269    55    True\n3  Faruk   215    72    True\n<class 'pandas.core.frame.DataFrame'>\nRangeIndex: 4 entries, 0 to 3\nData columns (total 4 columns):\n #   Column  Non-Null Count  Dtype \n---  ------  --------------  ----- \n 0   name    4 non-null      object\n 1   roll    4 non-null      int64 \n 2   mark    4 non-null      int64 \n 3   passed  4 non-null      bool  \ndtypes: bool(1), int64(2), object(1)\nmemory usage: 148.0+ bytes\nNone\n             roll       mark\ncount    4.000000   4.000000\nmean   247.250000  58.500000\nstd     23.041629  15.545632\nmin    215.000000  38.000000\n25%    240.500000  50.750000\n50%    252.500000  62.000000\n75%    259.250000  69.750000\nmax    269.000000  72.000000\nRangeIndex(start=0, stop=4, step=1)\nIndex(['name', 'roll', 'mark', 'passed'], dtype='object')\n(4, 4)\n"
    }
   ],
   "source": [
    "# printing the whole DataFrame\n",
    "print(df)\n",
    "print(df.to_string())\n",
    "\n",
    "print(df.head()) # returns first 5 rows\n",
    "print(df.head(4)) # returns first 4 rows\n",
    "\n",
    "print(df.tail()) # returns last 5 rows\n",
    "print(df.tail(6)) # returns last 6 rows\n",
    "\n",
    "print(df.info())  # print the basic info like: columns, dtype, count, memory usage etc.\n",
    "print(df.describe()) # print count, mean, std, min, 25%, 50%, 75%, max\n",
    "\n",
    "print(df.index)  # print all index\n",
    "print(df.columns) # print all columns\n",
    "print(df.shape) # print shape\n"
   ]
  },
  {
   "cell_type": "code",
   "execution_count": 8,
   "metadata": {},
   "outputs": [
    {
     "output_type": "execute_result",
     "data": {
      "text/plain": "   roll  mark\n0   256    38\n1   249    69\n2   269    55\n3   215    72",
      "text/html": "<div>\n<style scoped>\n    .dataframe tbody tr th:only-of-type {\n        vertical-align: middle;\n    }\n\n    .dataframe tbody tr th {\n        vertical-align: top;\n    }\n\n    .dataframe thead th {\n        text-align: right;\n    }\n</style>\n<table border=\"1\" class=\"dataframe\">\n  <thead>\n    <tr style=\"text-align: right;\">\n      <th></th>\n      <th>roll</th>\n      <th>mark</th>\n    </tr>\n  </thead>\n  <tbody>\n    <tr>\n      <th>0</th>\n      <td>256</td>\n      <td>38</td>\n    </tr>\n    <tr>\n      <th>1</th>\n      <td>249</td>\n      <td>69</td>\n    </tr>\n    <tr>\n      <th>2</th>\n      <td>269</td>\n      <td>55</td>\n    </tr>\n    <tr>\n      <th>3</th>\n      <td>215</td>\n      <td>72</td>\n    </tr>\n  </tbody>\n</table>\n</div>"
     },
     "metadata": {},
     "execution_count": 8
    }
   ],
   "source": [
    "df.roll    # get the roll column\n",
    "df['roll'] # get the roll column\n",
    "df[['roll', 'mark']] # get the roll & marks column\n"
   ]
  },
  {
   "cell_type": "code",
   "execution_count": 9,
   "metadata": {},
   "outputs": [],
   "source": [
    "# Copy vs View\n",
    "newdf = df # this will create a view. 'newdf' will point to 'df'\n",
    "newdf = df.copy() # this will be a copy. Now, 'newdf' and 'df' is fully apart\n",
    "# most of the functions like: drop, loc, iloc, reset_index returns a copy\n",
    "# If you want to do something to the orginial dataframe, pass this : inplace=True\n",
    "\n",
    "\n",
    "\n",
    "# Accesing and modifying DataFrame\n",
    "# print(df['mark']) # returns that column (a Series)\n",
    "# print(df['mark'][4]) # returns element on index 4 in 'marks'\n",
    "\n",
    "# setting element this way sholud be ignored\n",
    "# df['mark'][4] = 83\n"
   ]
  },
  {
   "cell_type": "code",
   "execution_count": 10,
   "metadata": {},
   "outputs": [
    {
     "output_type": "stream",
     "name": "stdout",
     "text": "55\n   roll  mark\n0   256    38\n1   249    69\n3   215    72\n   mark\n0    38\n1    69\n2    45\n3    72\n   name  roll  mark  passed\n0  Alif   256    38   False\n2  Asma   269    45    True\n    name  roll  mark\n1   Sami   249    69\n2   Asma   269    45\n3  Faruk   215    72\n72\n   roll  mark\n0   256    38\n1   249    69\n2   269    45\n3   215    45\n"
    },
    {
     "output_type": "execute_result",
     "data": {
      "text/plain": "Empty DataFrame\nColumns: [name, roll, mark, passed]\nIndex: []",
      "text/html": "<div>\n<style scoped>\n    .dataframe tbody tr th:only-of-type {\n        vertical-align: middle;\n    }\n\n    .dataframe tbody tr th {\n        vertical-align: top;\n    }\n\n    .dataframe thead th {\n        text-align: right;\n    }\n</style>\n<table border=\"1\" class=\"dataframe\">\n  <thead>\n    <tr style=\"text-align: right;\">\n      <th></th>\n      <th>name</th>\n      <th>roll</th>\n      <th>mark</th>\n      <th>passed</th>\n    </tr>\n  </thead>\n  <tbody>\n  </tbody>\n</table>\n</div>"
     },
     "metadata": {},
     "execution_count": 10
    }
   ],
   "source": [
    "# loc\n",
    "print(df.loc[2, 'mark'])   # 2 : index  | 'mark' : column\n",
    "df.loc[2, 'mark'] = 45 # if any given value of index or column is not found, it will create a new one\n",
    "\n",
    "# selecting a range\n",
    "print(df.loc[[0, 1, 3,], ['roll', 'mark']]) # return elements of 0, 1, 3, 5 index from 'roll', 'mark' columns\n",
    "print(df.loc[:, ['mark']])        # return elements of all index from 'mark' column\n",
    "print(df.loc[[0, 2], :])          # return elements of 0 to 2 index from all columns\n",
    "print(df.loc[1:3, 'name':'mark']) # return elements of 1 to 3 index from 'name' to 'mark' columns\n",
    "\n",
    "# iloc\n",
    "# same as loc, just here we need to pass exact index/column, not the label\n",
    "print(df.iloc[3, 2])\n",
    "df.iloc[3, 2] = 45\n",
    "print(df.iloc[:, [1, 2]])\n",
    "\n",
    "# df.<loc|iloc>[<index|list_of_index|range_of_index>, <column|list_of_column|range_of_column>]\n",
    "\n",
    "# conditional loc/iloc (query)\n",
    "df.loc[df['mark'] > 75]\n",
    "df.loc[(df['mark'] > 75) & (df['roll'] < 320)]"
   ]
  },
  {
   "cell_type": "code",
   "execution_count": 11,
   "metadata": {},
   "outputs": [
    {
     "output_type": "execute_result",
     "data": {
      "text/plain": "       name  mark  passed\nroll                     \n256    Alif    38   False\n249    Sami    69    True\n269    Asma    45    True\n215   Faruk    45    True",
      "text/html": "<div>\n<style scoped>\n    .dataframe tbody tr th:only-of-type {\n        vertical-align: middle;\n    }\n\n    .dataframe tbody tr th {\n        vertical-align: top;\n    }\n\n    .dataframe thead th {\n        text-align: right;\n    }\n</style>\n<table border=\"1\" class=\"dataframe\">\n  <thead>\n    <tr style=\"text-align: right;\">\n      <th></th>\n      <th>name</th>\n      <th>mark</th>\n      <th>passed</th>\n    </tr>\n    <tr>\n      <th>roll</th>\n      <th></th>\n      <th></th>\n      <th></th>\n    </tr>\n  </thead>\n  <tbody>\n    <tr>\n      <th>256</th>\n      <td>Alif</td>\n      <td>38</td>\n      <td>False</td>\n    </tr>\n    <tr>\n      <th>249</th>\n      <td>Sami</td>\n      <td>69</td>\n      <td>True</td>\n    </tr>\n    <tr>\n      <th>269</th>\n      <td>Asma</td>\n      <td>45</td>\n      <td>True</td>\n    </tr>\n    <tr>\n      <th>215</th>\n      <td>Faruk</td>\n      <td>45</td>\n      <td>True</td>\n    </tr>\n  </tbody>\n</table>\n</div>"
     },
     "metadata": {},
     "execution_count": 11
    }
   ],
   "source": [
    "# changing index with a column\n",
    "newdf = df.set_index('roll')\n",
    "newdf"
   ]
  },
  {
   "cell_type": "code",
   "execution_count": 12,
   "metadata": {},
   "outputs": [
    {
     "output_type": "execute_result",
     "data": {
      "text/plain": "   roll   name  mark  passed\n0   256   Alif    38   False\n1   249   Sami    69    True\n2   269   Asma    45    True\n3   215  Faruk    45    True",
      "text/html": "<div>\n<style scoped>\n    .dataframe tbody tr th:only-of-type {\n        vertical-align: middle;\n    }\n\n    .dataframe tbody tr th {\n        vertical-align: top;\n    }\n\n    .dataframe thead th {\n        text-align: right;\n    }\n</style>\n<table border=\"1\" class=\"dataframe\">\n  <thead>\n    <tr style=\"text-align: right;\">\n      <th></th>\n      <th>roll</th>\n      <th>name</th>\n      <th>mark</th>\n      <th>passed</th>\n    </tr>\n  </thead>\n  <tbody>\n    <tr>\n      <th>0</th>\n      <td>256</td>\n      <td>Alif</td>\n      <td>38</td>\n      <td>False</td>\n    </tr>\n    <tr>\n      <th>1</th>\n      <td>249</td>\n      <td>Sami</td>\n      <td>69</td>\n      <td>True</td>\n    </tr>\n    <tr>\n      <th>2</th>\n      <td>269</td>\n      <td>Asma</td>\n      <td>45</td>\n      <td>True</td>\n    </tr>\n    <tr>\n      <th>3</th>\n      <td>215</td>\n      <td>Faruk</td>\n      <td>45</td>\n      <td>True</td>\n    </tr>\n  </tbody>\n</table>\n</div>"
     },
     "metadata": {},
     "execution_count": 12
    }
   ],
   "source": [
    "# reseting index\n",
    "newdf = newdf.reset_index()\n",
    "newdf"
   ]
  },
  {
   "cell_type": "code",
   "execution_count": 13,
   "metadata": {},
   "outputs": [],
   "source": [
    "# Drop (delete)\n",
    "newdf = df.drop(2) # default axis = 0 | # delete index 2 (3 no. row) \n",
    "newdf = df.drop('roll', axis=1) # delete 'roll' column\n",
    "newdf = df.drop(['roll', 'name'], axis=1) # delete 'roll' and 'name' column\n",
    "\n",
    "# After dropping or anything, the index/column can get messy, to reset that\n",
    "newdf2 = newdf.reset_index() # this will not drop the previous index, it will name that a new column\n",
    "newdf2 = newdf.reset_index(drop=True)"
   ]
  },
  {
   "cell_type": "code",
   "execution_count": 14,
   "metadata": {},
   "outputs": [],
   "source": [
    "# Some functions\n",
    "x = df[\"mark\"].max()\n",
    "x = df[\"mark\"].min()\n",
    "x = df[\"mark\"].mean()\n",
    "x = df[\"mark\"].median()\n",
    "x = df[\"mark\"].std()\n",
    "x = df[\"mark\"].mode()[0]\n",
    "\n",
    "# Get Value Counts\n",
    "mark_counts = df[\"mark\"].value_counts() # count all value without null\n",
    "mark_counts = df[\"mark\"].value_counts(dropna=False) # count all value\n",
    "\n",
    "# Column rename:\n",
    "newdf = df.rename(columns = {'roll': 'roll_number', 'mark': 'result'}, inplace=False)\n",
    "# inplace = True : means it will change the orginial dataframe"
   ]
  },
  {
   "cell_type": "markdown",
   "metadata": {},
   "source": [
    "## Other"
   ]
  },
  {
   "cell_type": "code",
   "execution_count": 15,
   "metadata": {},
   "outputs": [
    {
     "output_type": "execute_result",
     "data": {
      "text/plain": "             roll    bangla   english      math\nroll     1.000000  0.234505  0.465440  0.372427\nbangla   0.234505  1.000000 -0.211876  0.987103\nenglish  0.465440 -0.211876  1.000000 -0.142562\nmath     0.372427  0.987103 -0.142562  1.000000",
      "text/html": "<div>\n<style scoped>\n    .dataframe tbody tr th:only-of-type {\n        vertical-align: middle;\n    }\n\n    .dataframe tbody tr th {\n        vertical-align: top;\n    }\n\n    .dataframe thead th {\n        text-align: right;\n    }\n</style>\n<table border=\"1\" class=\"dataframe\">\n  <thead>\n    <tr style=\"text-align: right;\">\n      <th></th>\n      <th>roll</th>\n      <th>bangla</th>\n      <th>english</th>\n      <th>math</th>\n    </tr>\n  </thead>\n  <tbody>\n    <tr>\n      <th>roll</th>\n      <td>1.000000</td>\n      <td>0.234505</td>\n      <td>0.465440</td>\n      <td>0.372427</td>\n    </tr>\n    <tr>\n      <th>bangla</th>\n      <td>0.234505</td>\n      <td>1.000000</td>\n      <td>-0.211876</td>\n      <td>0.987103</td>\n    </tr>\n    <tr>\n      <th>english</th>\n      <td>0.465440</td>\n      <td>-0.211876</td>\n      <td>1.000000</td>\n      <td>-0.142562</td>\n    </tr>\n    <tr>\n      <th>math</th>\n      <td>0.372427</td>\n      <td>0.987103</td>\n      <td>-0.142562</td>\n      <td>1.000000</td>\n    </tr>\n  </tbody>\n</table>\n</div>"
     },
     "metadata": {},
     "execution_count": 15
    }
   ],
   "source": [
    "# Pandas Correlations (Finding Relationships)\n",
    "data = [\n",
    "    ['Nayeem', 301, 86, 73,   96],\n",
    "    ['Masuda', 302, 75, 71,   76],\n",
    "    ['Someone',305, 84, 73,   96],\n",
    "    ['Kawser', 308, 83, 79,   94],\n",
    "    ['Lamima', 303, 75, 81,   77],\n",
    "]\n",
    "df = pd.DataFrame(data, columns=['name', 'roll', 'bangla', 'english', 'math'])\n",
    "df.corr()\n",
    "# this represent increment/decrement ratio with two rows taht is -1 to 1\n",
    "# 1 or close to it means a good relationship\n",
    "# -1 or it's close means a good relationship but the opposite (if one increase, other one decrease)\n",
    "# 0.2, -0.35 ... these are not good relationship\n",
    "\n",
    "#              roll    bangla   english      math\n",
    "# roll     1.000000  0.234505  0.465440  0.372427\n",
    "# bangla   0.234505  1.000000 -0.211876  0.987103\n",
    "# english  0.465440 -0.211876  1.000000 -0.142562\n",
    "# math     0.372427  0.987103 -0.142562  1.000000\n",
    "\n",
    "# We ca see a good relationship in bangla and math\n",
    "# the centre 1.000 is for roll increse same with roll, because roll is same to roll\n",
    "# other values determeans relationships, like: roll * english --> 0.465440\n",
    "# this means, if roll is increased, 46.5440% chance to increase english number"
   ]
  },
  {
   "cell_type": "markdown",
   "metadata": {},
   "source": [
    "## Cleaning Data"
   ]
  },
  {
   "cell_type": "code",
   "execution_count": 16,
   "metadata": {},
   "outputs": [
    {
     "output_type": "execute_result",
     "data": {
      "text/plain": "            temperature  windspeed   event\nday                                       \n2017-01-01         32.0        6.0    Rain\n2017-01-04          NaN        9.0   Sunny\n2017-01-05         28.0        NaN    Snow\n2017-01-06          NaN        7.0     NaN\n2017-01-07         32.0        NaN    Rain\n2017-01-08          NaN        NaN   Sunny\n2017-01-09          NaN        NaN     NaN\n2017-01-10         34.0        8.0  Cloudy\n2017-01-11         40.0       12.0   Sunny",
      "text/html": "<div>\n<style scoped>\n    .dataframe tbody tr th:only-of-type {\n        vertical-align: middle;\n    }\n\n    .dataframe tbody tr th {\n        vertical-align: top;\n    }\n\n    .dataframe thead th {\n        text-align: right;\n    }\n</style>\n<table border=\"1\" class=\"dataframe\">\n  <thead>\n    <tr style=\"text-align: right;\">\n      <th></th>\n      <th>temperature</th>\n      <th>windspeed</th>\n      <th>event</th>\n    </tr>\n    <tr>\n      <th>day</th>\n      <th></th>\n      <th></th>\n      <th></th>\n    </tr>\n  </thead>\n  <tbody>\n    <tr>\n      <th>2017-01-01</th>\n      <td>32.0</td>\n      <td>6.0</td>\n      <td>Rain</td>\n    </tr>\n    <tr>\n      <th>2017-01-04</th>\n      <td>NaN</td>\n      <td>9.0</td>\n      <td>Sunny</td>\n    </tr>\n    <tr>\n      <th>2017-01-05</th>\n      <td>28.0</td>\n      <td>NaN</td>\n      <td>Snow</td>\n    </tr>\n    <tr>\n      <th>2017-01-06</th>\n      <td>NaN</td>\n      <td>7.0</td>\n      <td>NaN</td>\n    </tr>\n    <tr>\n      <th>2017-01-07</th>\n      <td>32.0</td>\n      <td>NaN</td>\n      <td>Rain</td>\n    </tr>\n    <tr>\n      <th>2017-01-08</th>\n      <td>NaN</td>\n      <td>NaN</td>\n      <td>Sunny</td>\n    </tr>\n    <tr>\n      <th>2017-01-09</th>\n      <td>NaN</td>\n      <td>NaN</td>\n      <td>NaN</td>\n    </tr>\n    <tr>\n      <th>2017-01-10</th>\n      <td>34.0</td>\n      <td>8.0</td>\n      <td>Cloudy</td>\n    </tr>\n    <tr>\n      <th>2017-01-11</th>\n      <td>40.0</td>\n      <td>12.0</td>\n      <td>Sunny</td>\n    </tr>\n  </tbody>\n</table>\n</div>"
     },
     "metadata": {},
     "execution_count": 16
    }
   ],
   "source": [
    "df = pd.read_excel(\"data\\\\missing_data.xlsx\", parse_dates=['day'])\n",
    "df.set_index('day', inplace=True) # setting day column as index\n",
    "df"
   ]
  },
  {
   "cell_type": "code",
   "execution_count": 17,
   "metadata": {},
   "outputs": [
    {
     "output_type": "execute_result",
     "data": {
      "text/plain": "            temperature  windspeed   event\nday                                       \n2017-01-01         32.0        6.0    Rain\n2017-01-04          0.0        9.0   Sunny\n2017-01-05         28.0        0.0    Snow\n2017-01-06          0.0        7.0       0\n2017-01-07         32.0        0.0    Rain\n2017-01-08          0.0        0.0   Sunny\n2017-01-09          0.0        0.0       0\n2017-01-10         34.0        8.0  Cloudy\n2017-01-11         40.0       12.0   Sunny",
      "text/html": "<div>\n<style scoped>\n    .dataframe tbody tr th:only-of-type {\n        vertical-align: middle;\n    }\n\n    .dataframe tbody tr th {\n        vertical-align: top;\n    }\n\n    .dataframe thead th {\n        text-align: right;\n    }\n</style>\n<table border=\"1\" class=\"dataframe\">\n  <thead>\n    <tr style=\"text-align: right;\">\n      <th></th>\n      <th>temperature</th>\n      <th>windspeed</th>\n      <th>event</th>\n    </tr>\n    <tr>\n      <th>day</th>\n      <th></th>\n      <th></th>\n      <th></th>\n    </tr>\n  </thead>\n  <tbody>\n    <tr>\n      <th>2017-01-01</th>\n      <td>32.0</td>\n      <td>6.0</td>\n      <td>Rain</td>\n    </tr>\n    <tr>\n      <th>2017-01-04</th>\n      <td>0.0</td>\n      <td>9.0</td>\n      <td>Sunny</td>\n    </tr>\n    <tr>\n      <th>2017-01-05</th>\n      <td>28.0</td>\n      <td>0.0</td>\n      <td>Snow</td>\n    </tr>\n    <tr>\n      <th>2017-01-06</th>\n      <td>0.0</td>\n      <td>7.0</td>\n      <td>0</td>\n    </tr>\n    <tr>\n      <th>2017-01-07</th>\n      <td>32.0</td>\n      <td>0.0</td>\n      <td>Rain</td>\n    </tr>\n    <tr>\n      <th>2017-01-08</th>\n      <td>0.0</td>\n      <td>0.0</td>\n      <td>Sunny</td>\n    </tr>\n    <tr>\n      <th>2017-01-09</th>\n      <td>0.0</td>\n      <td>0.0</td>\n      <td>0</td>\n    </tr>\n    <tr>\n      <th>2017-01-10</th>\n      <td>34.0</td>\n      <td>8.0</td>\n      <td>Cloudy</td>\n    </tr>\n    <tr>\n      <th>2017-01-11</th>\n      <td>40.0</td>\n      <td>12.0</td>\n      <td>Sunny</td>\n    </tr>\n  </tbody>\n</table>\n</div>"
     },
     "metadata": {},
     "execution_count": 17
    }
   ],
   "source": [
    "new_df = df.fillna(0) # replacing all NaN with 0\n",
    "new_df"
   ]
  },
  {
   "cell_type": "code",
   "execution_count": 18,
   "metadata": {},
   "outputs": [
    {
     "output_type": "execute_result",
     "data": {
      "text/plain": "            temperature  windspeed     event\nday                                         \n2017-01-01         32.0        6.0      Rain\n2017-01-04          0.0        9.0     Sunny\n2017-01-05         28.0        0.0      Snow\n2017-01-06          0.0        7.0  no event\n2017-01-07         32.0        0.0      Rain\n2017-01-08          0.0        0.0     Sunny\n2017-01-09          0.0        0.0  no event\n2017-01-10         34.0        8.0    Cloudy\n2017-01-11         40.0       12.0     Sunny",
      "text/html": "<div>\n<style scoped>\n    .dataframe tbody tr th:only-of-type {\n        vertical-align: middle;\n    }\n\n    .dataframe tbody tr th {\n        vertical-align: top;\n    }\n\n    .dataframe thead th {\n        text-align: right;\n    }\n</style>\n<table border=\"1\" class=\"dataframe\">\n  <thead>\n    <tr style=\"text-align: right;\">\n      <th></th>\n      <th>temperature</th>\n      <th>windspeed</th>\n      <th>event</th>\n    </tr>\n    <tr>\n      <th>day</th>\n      <th></th>\n      <th></th>\n      <th></th>\n    </tr>\n  </thead>\n  <tbody>\n    <tr>\n      <th>2017-01-01</th>\n      <td>32.0</td>\n      <td>6.0</td>\n      <td>Rain</td>\n    </tr>\n    <tr>\n      <th>2017-01-04</th>\n      <td>0.0</td>\n      <td>9.0</td>\n      <td>Sunny</td>\n    </tr>\n    <tr>\n      <th>2017-01-05</th>\n      <td>28.0</td>\n      <td>0.0</td>\n      <td>Snow</td>\n    </tr>\n    <tr>\n      <th>2017-01-06</th>\n      <td>0.0</td>\n      <td>7.0</td>\n      <td>no event</td>\n    </tr>\n    <tr>\n      <th>2017-01-07</th>\n      <td>32.0</td>\n      <td>0.0</td>\n      <td>Rain</td>\n    </tr>\n    <tr>\n      <th>2017-01-08</th>\n      <td>0.0</td>\n      <td>0.0</td>\n      <td>Sunny</td>\n    </tr>\n    <tr>\n      <th>2017-01-09</th>\n      <td>0.0</td>\n      <td>0.0</td>\n      <td>no event</td>\n    </tr>\n    <tr>\n      <th>2017-01-10</th>\n      <td>34.0</td>\n      <td>8.0</td>\n      <td>Cloudy</td>\n    </tr>\n    <tr>\n      <th>2017-01-11</th>\n      <td>40.0</td>\n      <td>12.0</td>\n      <td>Sunny</td>\n    </tr>\n  </tbody>\n</table>\n</div>"
     },
     "metadata": {},
     "execution_count": 18
    }
   ],
   "source": [
    "# filling NaN in different columns\n",
    "new_df = df.fillna({\n",
    "    'temperature': 0,\n",
    "    'windspeed': 0,\n",
    "    'event': 'no event',\n",
    "})\n",
    "new_df"
   ]
  },
  {
   "cell_type": "code",
   "execution_count": 19,
   "metadata": {},
   "outputs": [
    {
     "output_type": "stream",
     "name": "stdout",
     "text": "temperature  windspeed   event\nday                                       \n2017-01-01         32.0        6.0    Rain\n2017-01-04         28.0        9.0   Sunny\n2017-01-05         28.0        7.0    Snow\n2017-01-06         32.0        7.0    Rain\n2017-01-07         32.0        8.0    Rain\n2017-01-08         34.0        8.0   Sunny\n2017-01-09         34.0        8.0  Cloudy\n2017-01-10         34.0        8.0  Cloudy\n2017-01-11         40.0       12.0   Sunny\n           temperature windspeed   event\nday                                     \n2017-01-01        32.0       6.0    Rain\n2017-01-04         9.0       9.0   Sunny\n2017-01-05        28.0      Snow    Snow\n2017-01-06         7.0       7.0     NaN\n2017-01-07        32.0      Rain    Rain\n2017-01-08       Sunny     Sunny   Sunny\n2017-01-09         NaN       NaN     NaN\n2017-01-10        34.0       8.0  Cloudy\n2017-01-11        40.0      12.0   Sunny\n"
    }
   ],
   "source": [
    "# back fill. fill NaN with the next value on given axis\n",
    "new_df = df.fillna(method='bfill')\n",
    "print(new_df)\n",
    "new_df = df.fillna(method='bfill', axis=1)\n",
    "print(new_df)"
   ]
  },
  {
   "cell_type": "code",
   "execution_count": 20,
   "metadata": {},
   "outputs": [
    {
     "output_type": "stream",
     "name": "stdout",
     "text": "temperature  windspeed   event\nday                                       \n2017-01-01         32.0        6.0    Rain\n2017-01-04         32.0        9.0   Sunny\n2017-01-05         28.0        9.0    Snow\n2017-01-06         28.0        7.0    Snow\n2017-01-07         32.0        7.0    Rain\n2017-01-08         32.0        7.0   Sunny\n2017-01-09         32.0        7.0   Sunny\n2017-01-10         34.0        8.0  Cloudy\n2017-01-11         40.0       12.0   Sunny\n           temperature windspeed   event\nday                                     \n2017-01-01        32.0       6.0    Rain\n2017-01-04         NaN       9.0   Sunny\n2017-01-05        28.0      28.0    Snow\n2017-01-06         NaN       7.0     7.0\n2017-01-07        32.0      32.0    Rain\n2017-01-08         NaN       NaN   Sunny\n2017-01-09         NaN       NaN     NaN\n2017-01-10        34.0       8.0  Cloudy\n2017-01-11        40.0      12.0   Sunny\n"
    }
   ],
   "source": [
    "# forward fill. fill NaN with the previous value on given axis\n",
    "new_df = df.fillna(method='ffill')\n",
    "print(new_df)\n",
    "new_df = df.fillna(method='ffill', axis=1)\n",
    "print(new_df)"
   ]
  },
  {
   "cell_type": "code",
   "execution_count": 21,
   "metadata": {},
   "outputs": [
    {
     "output_type": "stream",
     "name": "stdout",
     "text": "temperature  windspeed   event\nday                                       \n2017-01-01         32.0        6.0    Rain\n2017-01-04         32.0        9.0   Sunny\n2017-01-05         28.0        9.0    Snow\n2017-01-06         28.0        7.0    Snow\n2017-01-07         32.0        7.0    Rain\n2017-01-08         32.0        7.0   Sunny\n2017-01-09         32.0        NaN   Sunny\n2017-01-10         34.0        8.0  Cloudy\n2017-01-11         40.0       12.0   Sunny\n"
    }
   ],
   "source": [
    "# limiting bfill / ffill\n",
    "new_df = df.fillna(method='ffill', limit=2)\n",
    "print(new_df)"
   ]
  },
  {
   "cell_type": "code",
   "execution_count": 22,
   "metadata": {},
   "outputs": [
    {
     "output_type": "stream",
     "name": "stdout",
     "text": "temperature  windspeed   event\nday                                       \n2017-01-01    32.000000       6.00    Rain\n2017-01-04    30.000000       9.00   Sunny\n2017-01-05    28.000000       8.00    Snow\n2017-01-06    30.000000       7.00     NaN\n2017-01-07    32.000000       7.25    Rain\n2017-01-08    32.666667       7.50   Sunny\n2017-01-09    33.333333       7.75     NaN\n2017-01-10    34.000000       8.00  Cloudy\n2017-01-11    40.000000      12.00   Sunny\n            temperature  windspeed   event\nday                                       \n2017-01-01    32.000000       6.00    Rain\n2017-01-04    29.000000       9.00   Sunny\n2017-01-05    28.000000       8.00    Snow\n2017-01-06    30.000000       7.00     NaN\n2017-01-07    32.000000       7.25    Rain\n2017-01-08    32.666667       7.50   Sunny\n2017-01-09    33.333333       7.75     NaN\n2017-01-10    34.000000       8.00  Cloudy\n2017-01-11    40.000000      12.00   Sunny\n"
    }
   ],
   "source": [
    "# interpolate\n",
    "new_df = df.interpolate() # linear interpolate\n",
    "print(new_df)\n",
    "new_df = df.interpolate(method='time') # it will look for time difference\n",
    "print(new_df)"
   ]
  },
  {
   "cell_type": "code",
   "execution_count": 23,
   "metadata": {},
   "outputs": [
    {
     "output_type": "stream",
     "name": "stdout",
     "text": "temperature  windspeed   event\nday                                       \n2017-01-01         32.0        6.0    Rain\n2017-01-10         34.0        8.0  Cloudy\n2017-01-11         40.0       12.0   Sunny\n            temperature  windspeed   event\nday                                       \n2017-01-01         32.0        6.0    Rain\n2017-01-04          NaN        9.0   Sunny\n2017-01-05         28.0        NaN    Snow\n2017-01-06          NaN        7.0     NaN\n2017-01-07         32.0        NaN    Rain\n2017-01-08          NaN        NaN   Sunny\n2017-01-10         34.0        8.0  Cloudy\n2017-01-11         40.0       12.0   Sunny\n"
    }
   ],
   "source": [
    "# drop NaN\n",
    "new_df = df.dropna()  # at least one NaN\n",
    "print(new_df)\n",
    "new_df = df.dropna(how='all') # only if all values are NaN\n",
    "print(new_df)"
   ]
  },
  {
   "cell_type": "code",
   "execution_count": 24,
   "metadata": {},
   "outputs": [
    {
     "output_type": "stream",
     "name": "stdout",
     "text": "temperature  windspeed   event\nday                                       \n2017-01-01         32.0        6.0    Rain\n2017-01-04          NaN        9.0   Sunny\n2017-01-05         28.0        NaN    Snow\n2017-01-07         32.0        NaN    Rain\n2017-01-10         34.0        8.0  Cloudy\n2017-01-11         40.0       12.0   Sunny\n"
    }
   ],
   "source": [
    "new_df = df.dropna(thresh=2) # keep the row, if it has at least 2 non-NaN value\n",
    "print(new_df)"
   ]
  },
  {
   "cell_type": "code",
   "execution_count": 25,
   "metadata": {},
   "outputs": [
    {
     "output_type": "execute_result",
     "data": {
      "text/plain": "            temperature  windspeed   event\n2017-01-01         32.0        6.0    Rain\n2017-01-02          NaN        NaN     NaN\n2017-01-03          NaN        NaN     NaN\n2017-01-04          NaN        9.0   Sunny\n2017-01-05         28.0        NaN    Snow\n2017-01-06          NaN        7.0     NaN\n2017-01-07         32.0        NaN    Rain\n2017-01-08          NaN        NaN   Sunny\n2017-01-09          NaN        NaN     NaN\n2017-01-10         34.0        8.0  Cloudy\n2017-01-11         40.0       12.0   Sunny",
      "text/html": "<div>\n<style scoped>\n    .dataframe tbody tr th:only-of-type {\n        vertical-align: middle;\n    }\n\n    .dataframe tbody tr th {\n        vertical-align: top;\n    }\n\n    .dataframe thead th {\n        text-align: right;\n    }\n</style>\n<table border=\"1\" class=\"dataframe\">\n  <thead>\n    <tr style=\"text-align: right;\">\n      <th></th>\n      <th>temperature</th>\n      <th>windspeed</th>\n      <th>event</th>\n    </tr>\n  </thead>\n  <tbody>\n    <tr>\n      <th>2017-01-01</th>\n      <td>32.0</td>\n      <td>6.0</td>\n      <td>Rain</td>\n    </tr>\n    <tr>\n      <th>2017-01-02</th>\n      <td>NaN</td>\n      <td>NaN</td>\n      <td>NaN</td>\n    </tr>\n    <tr>\n      <th>2017-01-03</th>\n      <td>NaN</td>\n      <td>NaN</td>\n      <td>NaN</td>\n    </tr>\n    <tr>\n      <th>2017-01-04</th>\n      <td>NaN</td>\n      <td>9.0</td>\n      <td>Sunny</td>\n    </tr>\n    <tr>\n      <th>2017-01-05</th>\n      <td>28.0</td>\n      <td>NaN</td>\n      <td>Snow</td>\n    </tr>\n    <tr>\n      <th>2017-01-06</th>\n      <td>NaN</td>\n      <td>7.0</td>\n      <td>NaN</td>\n    </tr>\n    <tr>\n      <th>2017-01-07</th>\n      <td>32.0</td>\n      <td>NaN</td>\n      <td>Rain</td>\n    </tr>\n    <tr>\n      <th>2017-01-08</th>\n      <td>NaN</td>\n      <td>NaN</td>\n      <td>Sunny</td>\n    </tr>\n    <tr>\n      <th>2017-01-09</th>\n      <td>NaN</td>\n      <td>NaN</td>\n      <td>NaN</td>\n    </tr>\n    <tr>\n      <th>2017-01-10</th>\n      <td>34.0</td>\n      <td>8.0</td>\n      <td>Cloudy</td>\n    </tr>\n    <tr>\n      <th>2017-01-11</th>\n      <td>40.0</td>\n      <td>12.0</td>\n      <td>Sunny</td>\n    </tr>\n  </tbody>\n</table>\n</div>"
     },
     "metadata": {},
     "execution_count": 25
    }
   ],
   "source": [
    "# inserting missing date\n",
    "dt = pd.date_range('2017-01-01', '2017-01-11')\n",
    "idx = pd.DatetimeIndex(dt)\n",
    "new_df = df.reindex(idx)\n",
    "new_df"
   ]
  },
  {
   "cell_type": "code",
   "execution_count": 26,
   "metadata": {},
   "outputs": [
    {
     "output_type": "execute_result",
     "data": {
      "text/plain": "         day  temperature  windspeed  event\n0 2017-01-01           32          6   Rain\n1 2017-01-02       -99999          9  Sunny\n2 2017-01-03           28     -88888   Snow\n3 2017-01-04       -99999          7      0\n4 2017-01-05           32     -88888   Rain\n5 2017-01-06           31          2  Sunny\n6 2017-01-06           34          5      0",
      "text/html": "<div>\n<style scoped>\n    .dataframe tbody tr th:only-of-type {\n        vertical-align: middle;\n    }\n\n    .dataframe tbody tr th {\n        vertical-align: top;\n    }\n\n    .dataframe thead th {\n        text-align: right;\n    }\n</style>\n<table border=\"1\" class=\"dataframe\">\n  <thead>\n    <tr style=\"text-align: right;\">\n      <th></th>\n      <th>day</th>\n      <th>temperature</th>\n      <th>windspeed</th>\n      <th>event</th>\n    </tr>\n  </thead>\n  <tbody>\n    <tr>\n      <th>0</th>\n      <td>2017-01-01</td>\n      <td>32</td>\n      <td>6</td>\n      <td>Rain</td>\n    </tr>\n    <tr>\n      <th>1</th>\n      <td>2017-01-02</td>\n      <td>-99999</td>\n      <td>9</td>\n      <td>Sunny</td>\n    </tr>\n    <tr>\n      <th>2</th>\n      <td>2017-01-03</td>\n      <td>28</td>\n      <td>-88888</td>\n      <td>Snow</td>\n    </tr>\n    <tr>\n      <th>3</th>\n      <td>2017-01-04</td>\n      <td>-99999</td>\n      <td>7</td>\n      <td>0</td>\n    </tr>\n    <tr>\n      <th>4</th>\n      <td>2017-01-05</td>\n      <td>32</td>\n      <td>-88888</td>\n      <td>Rain</td>\n    </tr>\n    <tr>\n      <th>5</th>\n      <td>2017-01-06</td>\n      <td>31</td>\n      <td>2</td>\n      <td>Sunny</td>\n    </tr>\n    <tr>\n      <th>6</th>\n      <td>2017-01-06</td>\n      <td>34</td>\n      <td>5</td>\n      <td>0</td>\n    </tr>\n  </tbody>\n</table>\n</div>"
     },
     "metadata": {},
     "execution_count": 26
    }
   ],
   "source": [
    "df = pd.read_excel(\"data\\\\missing_data2.xlsx\")\n",
    "df"
   ]
  },
  {
   "cell_type": "code",
   "execution_count": 27,
   "metadata": {},
   "outputs": [
    {
     "output_type": "stream",
     "name": "stdout",
     "text": "day  temperature  windspeed  event\n0 2017-01-01         32.0          6   Rain\n1 2017-01-02          NaN          9  Sunny\n2 2017-01-03         28.0     -88888   Snow\n3 2017-01-04          NaN          7      0\n4 2017-01-05         32.0     -88888   Rain\n5 2017-01-06         31.0          2  Sunny\n6 2017-01-06         34.0          5      0 \n\n         day  temperature  windspeed  event\n0 2017-01-01         32.0        6.0   Rain\n1 2017-01-02          NaN        9.0  Sunny\n2 2017-01-03         28.0        NaN   Snow\n3 2017-01-04          NaN        7.0      0\n4 2017-01-05         32.0        NaN   Rain\n5 2017-01-06         31.0        2.0  Sunny\n6 2017-01-06         34.0        5.0      0\n"
    }
   ],
   "source": [
    "import numpy as np\n",
    "new_df = df.replace(-99999, np.NaN)\n",
    "print(new_df, '\\n')\n",
    "new_df = df.replace([-99999, -88888], np.NaN)\n",
    "print(new_df)"
   ]
  },
  {
   "cell_type": "code",
   "execution_count": 28,
   "metadata": {},
   "outputs": [
    {
     "output_type": "stream",
     "name": "stdout",
     "text": "day  temperature  windspeed  event\n0 2017-01-01         32.0        6.0   Rain\n1 2017-01-02          NaN        9.0  Sunny\n2 2017-01-03         28.0        NaN   Snow\n3 2017-01-04          NaN        7.0    NaN\n4 2017-01-05         32.0        NaN   Rain\n5 2017-01-06         31.0        2.0  Sunny\n6 2017-01-06         34.0        5.0    NaN\n"
    }
   ],
   "source": [
    "# replacing based on column\n",
    "new_df = df.replace({\n",
    "    'temperature': -99999,\n",
    "    'windspeed': -88888,\n",
    "    'event': 0,\n",
    "}, np.NaN)\n",
    "print(new_df)"
   ]
  },
  {
   "cell_type": "code",
   "execution_count": 29,
   "metadata": {},
   "outputs": [
    {
     "output_type": "stream",
     "name": "stdout",
     "text": "day  temperature  windspeed  event\n0 2017-01-01         32.0        6.0   Rain\n1 2017-01-02          NaN        9.0  Sunny\n2 2017-01-03         28.0        0.0   Snow\n3 2017-01-04          NaN        7.0      0\n4 2017-01-05         32.0        0.0   Rain\n5 2017-01-06         31.0        2.0  Sunny\n6 2017-01-06         34.0        5.0      0\n"
    }
   ],
   "source": [
    "# replacing based on string\n",
    "new_df = df.replace({\n",
    "    -99999: np.NaN,\n",
    "    -88888: 0,\n",
    "})\n",
    "print(new_df)"
   ]
  },
  {
   "cell_type": "code",
   "execution_count": 30,
   "metadata": {},
   "outputs": [
    {
     "output_type": "execute_result",
     "data": {
      "text/plain": "         day temperature windspeed  event\n0 2017-01-01        32 F     6 mph   Rain\n1 2017-01-02      -99999     9 mph  Sunny\n2 2017-01-03          28    -88888   Snow\n3 2017-01-04      -99999         7      0\n4 2017-01-05          32    -88888   Rain\n5 2017-01-06          31         2  Sunny\n6 2017-01-06          34         5      0",
      "text/html": "<div>\n<style scoped>\n    .dataframe tbody tr th:only-of-type {\n        vertical-align: middle;\n    }\n\n    .dataframe tbody tr th {\n        vertical-align: top;\n    }\n\n    .dataframe thead th {\n        text-align: right;\n    }\n</style>\n<table border=\"1\" class=\"dataframe\">\n  <thead>\n    <tr style=\"text-align: right;\">\n      <th></th>\n      <th>day</th>\n      <th>temperature</th>\n      <th>windspeed</th>\n      <th>event</th>\n    </tr>\n  </thead>\n  <tbody>\n    <tr>\n      <th>0</th>\n      <td>2017-01-01</td>\n      <td>32 F</td>\n      <td>6 mph</td>\n      <td>Rain</td>\n    </tr>\n    <tr>\n      <th>1</th>\n      <td>2017-01-02</td>\n      <td>-99999</td>\n      <td>9 mph</td>\n      <td>Sunny</td>\n    </tr>\n    <tr>\n      <th>2</th>\n      <td>2017-01-03</td>\n      <td>28</td>\n      <td>-88888</td>\n      <td>Snow</td>\n    </tr>\n    <tr>\n      <th>3</th>\n      <td>2017-01-04</td>\n      <td>-99999</td>\n      <td>7</td>\n      <td>0</td>\n    </tr>\n    <tr>\n      <th>4</th>\n      <td>2017-01-05</td>\n      <td>32</td>\n      <td>-88888</td>\n      <td>Rain</td>\n    </tr>\n    <tr>\n      <th>5</th>\n      <td>2017-01-06</td>\n      <td>31</td>\n      <td>2</td>\n      <td>Sunny</td>\n    </tr>\n    <tr>\n      <th>6</th>\n      <td>2017-01-06</td>\n      <td>34</td>\n      <td>5</td>\n      <td>0</td>\n    </tr>\n  </tbody>\n</table>\n</div>"
     },
     "metadata": {},
     "execution_count": 30
    }
   ],
   "source": [
    "df = pd.read_excel(\"data\\\\missing_data3.xlsx\")\n",
    "df"
   ]
  },
  {
   "cell_type": "code",
   "execution_count": 31,
   "metadata": {},
   "outputs": [
    {
     "output_type": "execute_result",
     "data": {
      "text/plain": "         day temperature windspeed event\n0 2017-01-01         32         6       \n1 2017-01-02      -99999        9       \n2 2017-01-03          28    -88888      \n3 2017-01-04      -99999         7     0\n4 2017-01-05          32    -88888      \n5 2017-01-06          31         2      \n6 2017-01-06          34         5     0",
      "text/html": "<div>\n<style scoped>\n    .dataframe tbody tr th:only-of-type {\n        vertical-align: middle;\n    }\n\n    .dataframe tbody tr th {\n        vertical-align: top;\n    }\n\n    .dataframe thead th {\n        text-align: right;\n    }\n</style>\n<table border=\"1\" class=\"dataframe\">\n  <thead>\n    <tr style=\"text-align: right;\">\n      <th></th>\n      <th>day</th>\n      <th>temperature</th>\n      <th>windspeed</th>\n      <th>event</th>\n    </tr>\n  </thead>\n  <tbody>\n    <tr>\n      <th>0</th>\n      <td>2017-01-01</td>\n      <td>32</td>\n      <td>6</td>\n      <td></td>\n    </tr>\n    <tr>\n      <th>1</th>\n      <td>2017-01-02</td>\n      <td>-99999</td>\n      <td>9</td>\n      <td></td>\n    </tr>\n    <tr>\n      <th>2</th>\n      <td>2017-01-03</td>\n      <td>28</td>\n      <td>-88888</td>\n      <td></td>\n    </tr>\n    <tr>\n      <th>3</th>\n      <td>2017-01-04</td>\n      <td>-99999</td>\n      <td>7</td>\n      <td>0</td>\n    </tr>\n    <tr>\n      <th>4</th>\n      <td>2017-01-05</td>\n      <td>32</td>\n      <td>-88888</td>\n      <td></td>\n    </tr>\n    <tr>\n      <th>5</th>\n      <td>2017-01-06</td>\n      <td>31</td>\n      <td>2</td>\n      <td></td>\n    </tr>\n    <tr>\n      <th>6</th>\n      <td>2017-01-06</td>\n      <td>34</td>\n      <td>5</td>\n      <td>0</td>\n    </tr>\n  </tbody>\n</table>\n</div>"
     },
     "metadata": {},
     "execution_count": 31
    }
   ],
   "source": [
    "# replacing based on regex\n",
    "new_df = df.replace('[A-Za-z]', '', regex=True)\n",
    "new_df"
   ]
  },
  {
   "cell_type": "code",
   "execution_count": 32,
   "metadata": {},
   "outputs": [
    {
     "output_type": "execute_result",
     "data": {
      "text/plain": "         day temperature windspeed  event\n0 2017-01-01         32         6    Rain\n1 2017-01-02      -99999        9   Sunny\n2 2017-01-03          28    -88888   Snow\n3 2017-01-04      -99999         7      0\n4 2017-01-05          32    -88888   Rain\n5 2017-01-06          31         2  Sunny\n6 2017-01-06          34         5      0",
      "text/html": "<div>\n<style scoped>\n    .dataframe tbody tr th:only-of-type {\n        vertical-align: middle;\n    }\n\n    .dataframe tbody tr th {\n        vertical-align: top;\n    }\n\n    .dataframe thead th {\n        text-align: right;\n    }\n</style>\n<table border=\"1\" class=\"dataframe\">\n  <thead>\n    <tr style=\"text-align: right;\">\n      <th></th>\n      <th>day</th>\n      <th>temperature</th>\n      <th>windspeed</th>\n      <th>event</th>\n    </tr>\n  </thead>\n  <tbody>\n    <tr>\n      <th>0</th>\n      <td>2017-01-01</td>\n      <td>32</td>\n      <td>6</td>\n      <td>Rain</td>\n    </tr>\n    <tr>\n      <th>1</th>\n      <td>2017-01-02</td>\n      <td>-99999</td>\n      <td>9</td>\n      <td>Sunny</td>\n    </tr>\n    <tr>\n      <th>2</th>\n      <td>2017-01-03</td>\n      <td>28</td>\n      <td>-88888</td>\n      <td>Snow</td>\n    </tr>\n    <tr>\n      <th>3</th>\n      <td>2017-01-04</td>\n      <td>-99999</td>\n      <td>7</td>\n      <td>0</td>\n    </tr>\n    <tr>\n      <th>4</th>\n      <td>2017-01-05</td>\n      <td>32</td>\n      <td>-88888</td>\n      <td>Rain</td>\n    </tr>\n    <tr>\n      <th>5</th>\n      <td>2017-01-06</td>\n      <td>31</td>\n      <td>2</td>\n      <td>Sunny</td>\n    </tr>\n    <tr>\n      <th>6</th>\n      <td>2017-01-06</td>\n      <td>34</td>\n      <td>5</td>\n      <td>0</td>\n    </tr>\n  </tbody>\n</table>\n</div>"
     },
     "metadata": {},
     "execution_count": 32
    }
   ],
   "source": [
    "# replacing based on regex\n",
    "new_df = df.replace({\n",
    "    'temperature' : '[A-Za-z]',\n",
    "    'windspeed' : '[A-Za-z]',\n",
    "}, '', regex=True)\n",
    "new_df"
   ]
  },
  {
   "cell_type": "code",
   "execution_count": 33,
   "metadata": {},
   "outputs": [
    {
     "output_type": "execute_result",
     "data": {
      "text/plain": "    name    score\n0   Robi      bad\n1   Kobi     good\n2   Sami  exelent\n3  Lotif     good",
      "text/html": "<div>\n<style scoped>\n    .dataframe tbody tr th:only-of-type {\n        vertical-align: middle;\n    }\n\n    .dataframe tbody tr th {\n        vertical-align: top;\n    }\n\n    .dataframe thead th {\n        text-align: right;\n    }\n</style>\n<table border=\"1\" class=\"dataframe\">\n  <thead>\n    <tr style=\"text-align: right;\">\n      <th></th>\n      <th>name</th>\n      <th>score</th>\n    </tr>\n  </thead>\n  <tbody>\n    <tr>\n      <th>0</th>\n      <td>Robi</td>\n      <td>bad</td>\n    </tr>\n    <tr>\n      <th>1</th>\n      <td>Kobi</td>\n      <td>good</td>\n    </tr>\n    <tr>\n      <th>2</th>\n      <td>Sami</td>\n      <td>exelent</td>\n    </tr>\n    <tr>\n      <th>3</th>\n      <td>Lotif</td>\n      <td>good</td>\n    </tr>\n  </tbody>\n</table>\n</div>"
     },
     "metadata": {},
     "execution_count": 33
    }
   ],
   "source": [
    "df = pd.DataFrame({\n",
    "    'name': ['Robi', 'Kobi', 'Sami', 'Lotif'],\n",
    "    'score': ['bad', 'good', 'exelent', 'good'],\n",
    "})\n",
    "df"
   ]
  },
  {
   "cell_type": "code",
   "execution_count": 34,
   "metadata": {},
   "outputs": [
    {
     "output_type": "execute_result",
     "data": {
      "text/plain": "    name  score\n0   Robi      0\n1   Kobi      1\n2   Sami      2\n3  Lotif      1",
      "text/html": "<div>\n<style scoped>\n    .dataframe tbody tr th:only-of-type {\n        vertical-align: middle;\n    }\n\n    .dataframe tbody tr th {\n        vertical-align: top;\n    }\n\n    .dataframe thead th {\n        text-align: right;\n    }\n</style>\n<table border=\"1\" class=\"dataframe\">\n  <thead>\n    <tr style=\"text-align: right;\">\n      <th></th>\n      <th>name</th>\n      <th>score</th>\n    </tr>\n  </thead>\n  <tbody>\n    <tr>\n      <th>0</th>\n      <td>Robi</td>\n      <td>0</td>\n    </tr>\n    <tr>\n      <th>1</th>\n      <td>Kobi</td>\n      <td>1</td>\n    </tr>\n    <tr>\n      <th>2</th>\n      <td>Sami</td>\n      <td>2</td>\n    </tr>\n    <tr>\n      <th>3</th>\n      <td>Lotif</td>\n      <td>1</td>\n    </tr>\n  </tbody>\n</table>\n</div>"
     },
     "metadata": {},
     "execution_count": 34
    }
   ],
   "source": [
    "df.replace(['bad', 'good', 'exelent'], [0, 1, 2])"
   ]
  },
  {
   "cell_type": "code",
   "execution_count": 35,
   "metadata": {},
   "outputs": [
    {
     "output_type": "stream",
     "name": "stdout",
     "text": "0    False\n1    False\n2    False\n3    False\ndtype: bool\n"
    },
    {
     "output_type": "execute_result",
     "data": {
      "text/plain": "    name    score\n0   Robi      bad\n1   Kobi     good\n2   Sami  exelent\n3  Lotif     good",
      "text/html": "<div>\n<style scoped>\n    .dataframe tbody tr th:only-of-type {\n        vertical-align: middle;\n    }\n\n    .dataframe tbody tr th {\n        vertical-align: top;\n    }\n\n    .dataframe thead th {\n        text-align: right;\n    }\n</style>\n<table border=\"1\" class=\"dataframe\">\n  <thead>\n    <tr style=\"text-align: right;\">\n      <th></th>\n      <th>name</th>\n      <th>score</th>\n    </tr>\n  </thead>\n  <tbody>\n    <tr>\n      <th>0</th>\n      <td>Robi</td>\n      <td>bad</td>\n    </tr>\n    <tr>\n      <th>1</th>\n      <td>Kobi</td>\n      <td>good</td>\n    </tr>\n    <tr>\n      <th>2</th>\n      <td>Sami</td>\n      <td>exelent</td>\n    </tr>\n    <tr>\n      <th>3</th>\n      <td>Lotif</td>\n      <td>good</td>\n    </tr>\n  </tbody>\n</table>\n</div>"
     },
     "metadata": {},
     "execution_count": 35
    }
   ],
   "source": [
    "# Duplicate Value\n",
    "print(df.duplicated()) # Returns True for every row that is a duplicate\n",
    "new_df = df.drop_duplicates()\n",
    "new_df"
   ]
  },
  {
   "cell_type": "code",
   "execution_count": null,
   "metadata": {},
   "outputs": [],
   "source": []
  }
 ],
 "metadata": {
  "language_info": {
   "codemirror_mode": {
    "name": "ipython",
    "version": 3
   },
   "file_extension": ".py",
   "mimetype": "text/x-python",
   "name": "python",
   "nbconvert_exporter": "python",
   "pygments_lexer": "ipython3",
   "version": "3.7.3-final"
  },
  "orig_nbformat": 2,
  "kernelspec": {
   "name": "python37332bit9276062ae2474ac586cde8242146f9fc",
   "display_name": "Python 3.7.3 32-bit"
  }
 },
 "nbformat": 4,
 "nbformat_minor": 2
}